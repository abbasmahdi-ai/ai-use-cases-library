{
 "cells": [
  {
   "cell_type": "markdown",
   "id": "18c33098",
   "metadata": {},
   "source": [
    "\n",
    "# AI Use Cases Library — Starter Analysis Notebook\n",
    "\n",
    "This notebook demonstrates **basic analysis workflows** with the AI Use Case dataset (**2,260 cases**).  \n",
    "It is intentionally **minimal** for v1.0: load the dataset, run a few quick cuts, and plot simple visuals.\n",
    "\n",
    "**Folders**  \n",
    "- `../../data/use-cases.csv` — main dataset  \n",
    "- `../../insights/` — curated written insights  \n",
    "- `../../charts/` — PNG charts for quick browsing  \n",
    "- `../../tools/analysis-scripts/` — this folder  \n",
    "- Back to [README](../../README.md) · See insights: [Trends](../../insights/trends-analysis.md) · [Vendor Comparison](../../insights/vendor-comparison.md)  \n",
    "\n",
    "> Tip: Create a new branch for your experiments before committing changes.\n"
   ]
  },
  {
   "cell_type": "markdown",
   "id": "f2a42155",
   "metadata": {},
   "source": [
    "## 1) Setup"
   ]
  },
  {
   "cell_type": "code",
   "execution_count": null,
   "id": "f3f2596d",
   "metadata": {},
   "outputs": [],
   "source": [
    "\n",
    "import pandas as pd\n",
    "import matplotlib.pyplot as plt\n",
    "\n",
    "# Display options\n",
    "pd.set_option(\"display.max_colwidth\", 160)\n",
    "\n",
    "# Load dataset (CSV). If you are testing locally, ensure this relative path is correct.\n",
    "df = pd.read_csv(\"../../data/use-cases.csv\")\n",
    "\n",
    "print(df.shape)\n",
    "df.head()\n"
   ]
  },
  {
   "cell_type": "markdown",
   "id": "1e7c403a",
   "metadata": {},
   "source": [
    "## 2) Basic Overview"
   ]
  },
  {
   "cell_type": "code",
   "execution_count": null,
   "id": "8e49212c",
   "metadata": {},
   "outputs": [],
   "source": [
    "\n",
    "# Column list and quick NA check\n",
    "df.columns.tolist(), df.isna().sum().sort_values(ascending=False).head(10)\n"
   ]
  },
  {
   "cell_type": "markdown",
   "id": "b116e9ce",
   "metadata": {},
   "source": [
    "## 3) Cases by Industry"
   ]
  },
  {
   "cell_type": "code",
   "execution_count": null,
   "id": "925c2149",
   "metadata": {},
   "outputs": [],
   "source": [
    "\n",
    "industry_counts = (\n",
    "    df[\"Use Case Industry\"]\n",
    "      .fillna(\"Unspecified\")\n",
    "      .value_counts()\n",
    "      .head(15)\n",
    "      .sort_values(ascending=True)\n",
    ")\n",
    "\n",
    "plt.figure(figsize=(10,6))\n",
    "industry_counts.plot(kind=\"barh\")\n",
    "plt.title(\"Top Industries by Case Count\")\n",
    "plt.xlabel(\"Cases\")\n",
    "plt.tight_layout()\n",
    "plt.show()\n"
   ]
  },
  {
   "cell_type": "markdown",
   "id": "035b3d08",
   "metadata": {},
   "source": [
    "## 4) Cases by Domain"
   ]
  },
  {
   "cell_type": "code",
   "execution_count": null,
   "id": "4a5b9d7b",
   "metadata": {},
   "outputs": [],
   "source": [
    "\n",
    "domain_counts = (\n",
    "    df[\"Use Case Domain\"]\n",
    "      .fillna(\"Unspecified\")\n",
    "      .value_counts()\n",
    "      .head(15)\n",
    "      .sort_values(ascending=True)\n",
    ")\n",
    "\n",
    "plt.figure(figsize=(10,6))\n",
    "domain_counts.plot(kind=\"barh\")\n",
    "plt.title(\"Top Domains by Case Count\")\n",
    "plt.xlabel(\"Cases\")\n",
    "plt.tight_layout()\n",
    "plt.show()\n"
   ]
  },
  {
   "cell_type": "markdown",
   "id": "a374392d",
   "metadata": {},
   "source": [
    "## 5) Vendor Mentions (quick demo)"
   ]
  },
  {
   "cell_type": "code",
   "execution_count": null,
   "id": "c8fe2b00",
   "metadata": {},
   "outputs": [],
   "source": [
    "\n",
    "# Simple keyword searches in Tool/Technology column — adjust as needed\n",
    "tools = df[\"Tool/Technology\"].fillna(\"\").str.lower()\n",
    "\n",
    "metrics = {\n",
    "    \"Microsoft (Azure/Copilot)\": tools.str.contains(r\"\\bazure\\b|\\bmicrosoft\\b|\\bcopilot\\b\", regex=True).sum(),\n",
    "    \"OpenAI (GPT/ChatGPT/o-series)\": tools.str.contains(r\"\\bopenai\\b|\\bgpt\\b|\\bchatgpt\\b|\\bo[13]\", regex=True).sum(),\n",
    "    \"Anthropic (Claude)\": tools.str.contains(r\"\\banthropic\\b|\\bclaude\\b\", regex=True).sum(),\n",
    "    \"AWS (Bedrock/SageMaker)\": tools.str.contains(r\"\\bamazon\\b|\\baws\\b|\\bbedrock\\b|\\bsagemaker\\b\", regex=True).sum(),\n",
    "    \"Google (Gemini/Vertex)\": tools.str.contains(r\"\\bgoogle\\b|\\bgemini\\b|\\bvertex\\b\", regex=True).sum(),\n",
    "    \"IBM (watsonx)\": tools.str.contains(r\"\\bibm\\b|\\bwatsonx\\b|\\bwatson\\b\", regex=True).sum(),\n",
    "}\n",
    "\n",
    "pd.Series(metrics).sort_values(ascending=False)\n"
   ]
  },
  {
   "cell_type": "markdown",
   "id": "d7a125c1",
   "metadata": {},
   "source": [
    "## 6) Outcomes & Benefits (keyword scan)"
   ]
  },
  {
   "cell_type": "code",
   "execution_count": null,
   "id": "5ddb2875",
   "metadata": {},
   "outputs": [],
   "source": [
    "\n",
    "outcomes = df[\"Outcomes & Benefits\"].fillna(\"\").str.lower()\n",
    "\n",
    "keywords = {\n",
    "    \"Cost reduction\": r\"\\bcost\\b|\\bspend\\b|\\breduce.*cost|\\bsave money\\b\",\n",
    "    \"Time savings / Speed\": r\"\\btime\\b|\\bfaster\\b|\\bspeed\\b|\\blatency\\b|\\bturnaround\\b|\\breduce.*time\",\n",
    "    \"Productivity\": r\"\\bproductivity\\b|\\bthroughput\\b|\\boutput\\b\",\n",
    "    \"Accuracy / Quality\": r\"\\baccurac|\\bquality\\b|\\bprecision\\b|\\berror\\b|\\bbug\\b\",\n",
    "    \"Automation\": r\"\\bautomate|\\bautonom|\\bstraight-through\\b\",\n",
    "    \"Revenue / Growth\": r\"\\brevenue\\b|\\bsales\\b|\\bconversion\\b|\\bgrowth\\b\",\n",
    "    \"Customer Satisfaction\": r\"\\bcsat\\b|\\bsatisfaction\\b|\\bnps\\b|\\bexperience\\b|\\bcx\\b\",\n",
    "    \"Risk / Compliance\": r\"\\brisk\\b|\\bcompliance\\b|\\bgovernance\\b|\\baudit\\b|\\bfraud\\b\",\n",
    "}\n",
    "\n",
    "series = pd.Series({k: outcomes.str.contains(v, regex=True).sum() for k,v in keywords.items()})\n",
    "series.sort_values(ascending=True).plot(kind=\"barh\", figsize=(10,6), title=\"Outcomes & Benefits — keyword frequency\")\n",
    "plt.xlabel(\"Cases Mentioned\")\n",
    "plt.tight_layout()\n",
    "plt.show()\n"
   ]
  },
  {
   "cell_type": "markdown",
   "id": "407bf20d",
   "metadata": {},
   "source": [
    "## 7) Export helper (optional)"
   ]
  },
  {
   "cell_type": "code",
   "execution_count": null,
   "id": "27d8ed55",
   "metadata": {},
   "outputs": [],
   "source": [
    "\n",
    "# Example: Save a filtered slice as CSV (uncomment to use)\n",
    "# subset = df[df[\"Use Case Industry\"] == \"Healthcare\"]\n",
    "# subset.to_csv(\"healthcare_cases.csv\", index=False)\n"
   ]
  },
  {
   "cell_type": "markdown",
   "id": "1c0f760a",
   "metadata": {},
   "source": [
    "\n",
    "---\n",
    "\n",
    "### Notes\n",
    "- For deeper analysis, see `../../insights/` and the charts in `../../charts/`.\n",
    "- Please keep analyses reproducible (pin environments, comment code meaningfully).\n",
    "\n",
    "**Happy exploring!** 🚀  \n",
    "\n",
    "➡️ Back to [README](../../README.md) · See insights: [Trends](../../insights/trends-analysis.md) · [Vendor Comparison](../../insights/vendor-comparison.md)  \n",
    "\n"
   ]
  }
 ],
 "metadata": {
  "language_info": {
   "name": "python"
  }
 },
 "nbformat": 4,
 "nbformat_minor": 5
}
